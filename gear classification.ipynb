{
 "cells": [
  {
   "cell_type": "markdown",
   "metadata": {},
   "source": [
    "### DEEP LEARNING MODEL FOR GEAR CLASSIFCATION"
   ]
  },
  {
   "cell_type": "code",
   "execution_count": 3,
   "metadata": {},
   "outputs": [],
   "source": [
    "import os\n",
    "import time \n",
    "import requests\n",
    "import cv2\n",
    "import operator\n",
    "import numpy as np\n",
    "from __future__ import print_function\n",
    "import pickle\n",
    "import json\n",
    "from IPython.display import Image, display\n",
    "\n",
    "# Import library to display results\n",
    "import matplotlib.pyplot as plt\n",
    "%matplotlib inline "
   ]
  },
  {
   "cell_type": "code",
   "execution_count": 4,
   "metadata": {},
   "outputs": [
    {
     "name": "stdout",
     "output_type": "stream",
     "text": [
      "(2122, 128, 128, 3)\n",
      "(2122,)\n"
     ]
    }
   ],
   "source": [
    "with open(r\"output.pickle\", \"rb\") as input_file:\n",
    "    data = pickle.load(input_file)\n",
    "    \n",
    "labels = []\n",
    "features = []\n",
    "\n",
    "for k, v in data.items():\n",
    "    for value in v:\n",
    "        features.append(value)\n",
    "        labels.append(k)\n",
    "    \n",
    "labels = np.asarray(labels)\n",
    "features = np.asarray(features)\n",
    "print (features.shape)\n",
    "print (labels.shape)\n"
   ]
  },
  {
   "cell_type": "code",
   "execution_count": 37,
   "metadata": {},
   "outputs": [
    {
     "name": "stdout",
     "output_type": "stream",
     "text": [
      "(1803, 12)\n"
     ]
    }
   ],
   "source": [
    "from sklearn.model_selection import train_test_split\n",
    "from keras.utils import np_utils \n",
    "from sklearn.preprocessing import LabelEncoder\n",
    "\n",
    "X_train, X_test, y_train, y_test = train_test_split(features, labels, test_size = 0.15)\n",
    "\n",
    "\n",
    "# encode class values as integers\n",
    "encoder = LabelEncoder()\n",
    "encoder.fit(y_train)\n",
    "encoded_Y = encoder.transform(y_train)\n",
    "# convert integers to dummy variables (i.e. one hot encoded)\n",
    "y_train = np_utils.to_categorical(encoded_Y)\n",
    "\n",
    "encoder.fit(y_test)\n",
    "encoded_Y = encoder.transform(y_test)\n",
    "# convert integers to dummy variables (i.e. one hot encoded)\n",
    "y_test = np_utils.to_categorical(encoded_Y)\n",
    "\n",
    "print (y_train.shape)\n",
    "\n",
    "# y_test = to_categorical(y_test)\n"
   ]
  },
  {
   "cell_type": "code",
   "execution_count": 38,
   "metadata": {},
   "outputs": [
    {
     "name": "stdout",
     "output_type": "stream",
     "text": [
      "_________________________________________________________________\n",
      "Layer (type)                 Output Shape              Param #   \n",
      "=================================================================\n",
      "lambda_6 (Lambda)            (None, 128, 128, 3)       0         \n",
      "_________________________________________________________________\n",
      "conv2d_12 (Conv2D)           (None, 124, 124, 64)      4864      \n",
      "_________________________________________________________________\n",
      "max_pooling2d_12 (MaxPooling (None, 62, 62, 64)        0         \n",
      "_________________________________________________________________\n",
      "dropout_2 (Dropout)          (None, 62, 62, 64)        0         \n",
      "_________________________________________________________________\n",
      "conv2d_13 (Conv2D)           (None, 58, 58, 64)        102464    \n",
      "_________________________________________________________________\n",
      "max_pooling2d_13 (MaxPooling (None, 29, 29, 64)        0         \n",
      "_________________________________________________________________\n",
      "flatten_6 (Flatten)          (None, 53824)             0         \n",
      "_________________________________________________________________\n",
      "dense_6 (Dense)              (None, 12)                645900    \n",
      "=================================================================\n",
      "Total params: 753,228\n",
      "Trainable params: 753,228\n",
      "Non-trainable params: 0\n",
      "_________________________________________________________________\n",
      "Train on 1622 samples, validate on 181 samples\n",
      "Epoch 1/3\n",
      "1622/1622 [==============================] - 84s 52ms/step - loss: 1.4158 - acc: 0.5703 - val_loss: 0.6271 - val_acc: 0.8177\n",
      "Epoch 2/3\n",
      "1622/1622 [==============================] - 146s 90ms/step - loss: 0.4892 - acc: 0.8323 - val_loss: 0.5077 - val_acc: 0.8453\n",
      "Epoch 3/3\n",
      "1622/1622 [==============================] - 145s 90ms/step - loss: 0.2483 - acc: 0.9149 - val_loss: 0.4261 - val_acc: 0.8674\n",
      "319/319 [==============================] - 4s 13ms/step\n",
      "[0.47841356914245226, 0.8620689632750603]\n"
     ]
    }
   ],
   "source": [
    "from keras.models import Sequential\n",
    "from keras.layers import Dense, Conv2D, MaxPooling2D, Lambda, Flatten, Dropout\n",
    "\n",
    "filters = 64\n",
    "kernel_size = (5,5)\n",
    "\n",
    "model = Sequential()\n",
    "model.add(Lambda(lambda x: x/255 - 1., input_shape=(128, 128, 3)))\n",
    "\n",
    "model.add(Conv2D(filters, kernel_size, strides=(1, 1), padding='valid', activation = 'relu' ))\n",
    "model.add(MaxPooling2D(pool_size=(2, 2), strides=None, padding='valid'))\n",
    "model.add(Dropout(0.3))\n",
    "model.add(Conv2D(filters, kernel_size, strides=(1, 1), padding='valid', activation = 'relu' ))\n",
    "model.add(MaxPooling2D(pool_size=(2, 2), strides=None, padding='valid'))\n",
    "\n",
    "model.add(Flatten())\n",
    "model.add(Dense(12, activation='softmax'))\n",
    "\n",
    "model.summary()\n",
    "\n",
    "model.compile(loss='categorical_crossentropy',\n",
    "              optimizer='adam',\n",
    "              metrics=['accuracy'])\n",
    "\n",
    "model.fit(X_train, y_train, epochs=3, validation_split = 0.1)\n",
    "score = model.evaluate(X_test, y_test)\n",
    "\n",
    "print (score)"
   ]
  },
  {
   "cell_type": "code",
   "execution_count": 41,
   "metadata": {},
   "outputs": [
    {
     "name": "stdout",
     "output_type": "stream",
     "text": [
      "(319,)\n"
     ]
    },
    {
     "data": {
      "text/plain": [
       "array([[11,  0,  0,  2,  0,  0,  0,  0,  0,  0,  0,  0],\n",
       "       [ 0, 18,  0,  0,  2,  0,  0,  0,  0,  0,  0,  1],\n",
       "       [ 0,  0, 44,  0,  0,  0,  1,  0,  0,  0,  0,  0],\n",
       "       [ 0,  0,  0, 12,  0,  0,  0,  0,  0,  0,  0,  0],\n",
       "       [ 0,  0,  0,  0, 35,  0,  0,  1,  1,  0,  1,  0],\n",
       "       [ 1,  0,  0,  0,  1, 54,  0,  0, 11,  1,  0,  0],\n",
       "       [ 1,  0,  0,  0,  1,  0, 29,  0,  0,  0,  0,  0],\n",
       "       [ 1,  0,  0,  0,  0,  0,  0,  8,  0,  0,  0,  0],\n",
       "       [ 0,  0,  0,  0,  0,  5,  0,  0, 28,  0,  0,  0],\n",
       "       [ 0,  0,  2,  0,  1,  2,  0,  0,  0,  1,  1,  1],\n",
       "       [ 2,  0,  0,  0,  1,  0,  0,  0,  0,  0, 20,  2],\n",
       "       [ 0,  0,  0,  0,  0,  1,  0,  0,  0,  0,  0, 15]])"
      ]
     },
     "execution_count": 41,
     "metadata": {},
     "output_type": "execute_result"
    }
   ],
   "source": [
    "from sklearn.metrics import confusion_matrix\n",
    "\n",
    "predictions = model.predict(X_test)\n",
    "\n",
    "y_test = np.argmax(y_test, axis= 1)\n",
    "predictions = np.argmax(predictions, axis = 1)\n",
    "\n",
    "print (y_test.shape)\n",
    "\n",
    "confusion_matrix(y_test, predictions)"
   ]
  },
  {
   "cell_type": "code",
   "execution_count": 42,
   "metadata": {},
   "outputs": [
    {
     "name": "stdout",
     "output_type": "stream",
     "text": [
      "['axes' 'boots' 'carabiners' 'crampons' 'gloves' 'hardshell_jackets'\n",
      " 'harnesses' 'helmets' 'insulated_jackets' 'pulleys' 'rope' 'tents']\n"
     ]
    }
   ],
   "source": [
    "print (np.unique(labels))"
   ]
  },
  {
   "cell_type": "code",
   "execution_count": 45,
   "metadata": {},
   "outputs": [],
   "source": [
    "from keras.models import load_model\n",
    "\n",
    "model.save('my_model.h5')"
   ]
  },
  {
   "cell_type": "code",
   "execution_count": null,
   "metadata": {},
   "outputs": [],
   "source": []
  }
 ],
 "metadata": {
  "kernelspec": {
   "display_name": "Python 3",
   "language": "python",
   "name": "python3"
  },
  "language_info": {
   "codemirror_mode": {
    "name": "ipython",
    "version": 3
   },
   "file_extension": ".py",
   "mimetype": "text/x-python",
   "name": "python",
   "nbconvert_exporter": "python",
   "pygments_lexer": "ipython3",
   "version": "3.5.4"
  }
 },
 "nbformat": 4,
 "nbformat_minor": 2
}
